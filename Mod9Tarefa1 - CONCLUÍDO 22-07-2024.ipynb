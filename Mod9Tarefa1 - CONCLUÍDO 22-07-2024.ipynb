{
 "cells": [
  {
   "cell_type": "markdown",
   "metadata": {},
   "source": [
    "# Livro para consulta:\n",
    "- https://jakevdp.github.io/PythonDataScienceHandbook/03.08-aggregation-and-grouping.html\n",
    "- https://jakevdp.github.io/PythonDataScienceHandbook/03.09-pivot-tables.html\n",
    "    "
   ]
  },
  {
   "cell_type": "markdown",
   "metadata": {},
   "source": [
    "# 1. Importando bibliotecas <a name=\"import\"></a>\n",
    "\n",
    "<div style=\"text-align: right\"\n",
    "     \n",
    "[Voltar ao índice](#Contents)"
   ]
  },
  {
   "cell_type": "code",
   "execution_count": 70,
   "metadata": {
    "ExecuteTime": {
     "end_time": "2021-06-06T21:12:37.298706Z",
     "start_time": "2021-06-06T21:12:36.656481Z"
    }
   },
   "outputs": [],
   "source": [
    "import numpy as np\n",
    "import pandas as pd\n",
    "import seaborn as sns\n",
    "import matplotlib.pyplot as plt\n",
    "\n",
    "%matplotlib inline"
   ]
  },
  {
   "cell_type": "code",
   "execution_count": null,
   "metadata": {},
   "outputs": [],
   "source": []
  },
  {
   "cell_type": "markdown",
   "metadata": {},
   "source": [
    "# 2. Carregando o dataframe SINASC <a name=\"read\"></a>\n",
    "<div style=\"text-align: right\"\n",
    "     \n",
    "[Voltar ao índice](#Contents)"
   ]
  },
  {
   "cell_type": "code",
   "execution_count": 72,
   "metadata": {
    "ExecuteTime": {
     "end_time": "2021-06-06T21:12:37.762376Z",
     "start_time": "2021-06-06T21:12:37.728383Z"
    },
    "scrolled": true
   },
   "outputs": [
    {
     "data": {
      "text/html": [
       "<div>\n",
       "<style scoped>\n",
       "    .dataframe tbody tr th:only-of-type {\n",
       "        vertical-align: middle;\n",
       "    }\n",
       "\n",
       "    .dataframe tbody tr th {\n",
       "        vertical-align: top;\n",
       "    }\n",
       "\n",
       "    .dataframe thead th {\n",
       "        text-align: right;\n",
       "    }\n",
       "</style>\n",
       "<table border=\"1\" class=\"dataframe\">\n",
       "  <thead>\n",
       "    <tr style=\"text-align: right;\">\n",
       "      <th></th>\n",
       "      <th>ORIGEM</th>\n",
       "      <th>CODESTAB</th>\n",
       "      <th>CODMUNNASC</th>\n",
       "      <th>LOCNASC</th>\n",
       "      <th>IDADEMAE</th>\n",
       "      <th>ESTCIVMAE</th>\n",
       "      <th>ESCMAE</th>\n",
       "      <th>CODOCUPMAE</th>\n",
       "      <th>QTDFILVIVO</th>\n",
       "      <th>QTDFILMORT</th>\n",
       "      <th>...</th>\n",
       "      <th>KOTELCHUCK</th>\n",
       "      <th>CONTADOR</th>\n",
       "      <th>munResStatus</th>\n",
       "      <th>munResTipo</th>\n",
       "      <th>munResNome</th>\n",
       "      <th>munResUf</th>\n",
       "      <th>munResLat</th>\n",
       "      <th>munResLon</th>\n",
       "      <th>munResAlt</th>\n",
       "      <th>munResArea</th>\n",
       "    </tr>\n",
       "  </thead>\n",
       "  <tbody>\n",
       "    <tr>\n",
       "      <th>0</th>\n",
       "      <td>1</td>\n",
       "      <td>2679477.0</td>\n",
       "      <td>110001</td>\n",
       "      <td>1</td>\n",
       "      <td>19</td>\n",
       "      <td>5.0</td>\n",
       "      <td>8 a 11 anos</td>\n",
       "      <td>NaN</td>\n",
       "      <td>0.0</td>\n",
       "      <td>0.0</td>\n",
       "      <td>...</td>\n",
       "      <td>5</td>\n",
       "      <td>1</td>\n",
       "      <td>ATIVO</td>\n",
       "      <td>MUNIC</td>\n",
       "      <td>Alta Floresta D'Oeste</td>\n",
       "      <td>Rondônia</td>\n",
       "      <td>-11.93554</td>\n",
       "      <td>-61.99982</td>\n",
       "      <td>338.0</td>\n",
       "      <td>7067.025</td>\n",
       "    </tr>\n",
       "    <tr>\n",
       "      <th>1</th>\n",
       "      <td>1</td>\n",
       "      <td>2679477.0</td>\n",
       "      <td>110001</td>\n",
       "      <td>1</td>\n",
       "      <td>29</td>\n",
       "      <td>2.0</td>\n",
       "      <td>8 a 11 anos</td>\n",
       "      <td>999992.0</td>\n",
       "      <td>1.0</td>\n",
       "      <td>0.0</td>\n",
       "      <td>...</td>\n",
       "      <td>5</td>\n",
       "      <td>2</td>\n",
       "      <td>ATIVO</td>\n",
       "      <td>MUNIC</td>\n",
       "      <td>Alta Floresta D'Oeste</td>\n",
       "      <td>Rondônia</td>\n",
       "      <td>-11.93554</td>\n",
       "      <td>-61.99982</td>\n",
       "      <td>338.0</td>\n",
       "      <td>7067.025</td>\n",
       "    </tr>\n",
       "    <tr>\n",
       "      <th>2</th>\n",
       "      <td>1</td>\n",
       "      <td>2679477.0</td>\n",
       "      <td>110001</td>\n",
       "      <td>1</td>\n",
       "      <td>37</td>\n",
       "      <td>9.0</td>\n",
       "      <td>8 a 11 anos</td>\n",
       "      <td>513205.0</td>\n",
       "      <td>2.0</td>\n",
       "      <td>0.0</td>\n",
       "      <td>...</td>\n",
       "      <td>5</td>\n",
       "      <td>3</td>\n",
       "      <td>ATIVO</td>\n",
       "      <td>MUNIC</td>\n",
       "      <td>Alta Floresta D'Oeste</td>\n",
       "      <td>Rondônia</td>\n",
       "      <td>-11.93554</td>\n",
       "      <td>-61.99982</td>\n",
       "      <td>338.0</td>\n",
       "      <td>7067.025</td>\n",
       "    </tr>\n",
       "    <tr>\n",
       "      <th>3</th>\n",
       "      <td>1</td>\n",
       "      <td>2516500.0</td>\n",
       "      <td>110001</td>\n",
       "      <td>1</td>\n",
       "      <td>30</td>\n",
       "      <td>5.0</td>\n",
       "      <td>12 anos ou mais</td>\n",
       "      <td>231205.0</td>\n",
       "      <td>0.0</td>\n",
       "      <td>0.0</td>\n",
       "      <td>...</td>\n",
       "      <td>4</td>\n",
       "      <td>4</td>\n",
       "      <td>ATIVO</td>\n",
       "      <td>MUNIC</td>\n",
       "      <td>Alto Alegre dos Parecis</td>\n",
       "      <td>Rondônia</td>\n",
       "      <td>-12.13178</td>\n",
       "      <td>-61.85308</td>\n",
       "      <td>397.0</td>\n",
       "      <td>3958.273</td>\n",
       "    </tr>\n",
       "    <tr>\n",
       "      <th>4</th>\n",
       "      <td>1</td>\n",
       "      <td>2516500.0</td>\n",
       "      <td>110001</td>\n",
       "      <td>1</td>\n",
       "      <td>30</td>\n",
       "      <td>2.0</td>\n",
       "      <td>8 a 11 anos</td>\n",
       "      <td>999992.0</td>\n",
       "      <td>1.0</td>\n",
       "      <td>0.0</td>\n",
       "      <td>...</td>\n",
       "      <td>5</td>\n",
       "      <td>5</td>\n",
       "      <td>ATIVO</td>\n",
       "      <td>MUNIC</td>\n",
       "      <td>Alta Floresta D'Oeste</td>\n",
       "      <td>Rondônia</td>\n",
       "      <td>-11.93554</td>\n",
       "      <td>-61.99982</td>\n",
       "      <td>338.0</td>\n",
       "      <td>7067.025</td>\n",
       "    </tr>\n",
       "  </tbody>\n",
       "</table>\n",
       "<p>5 rows × 69 columns</p>\n",
       "</div>"
      ],
      "text/plain": [
       "   ORIGEM   CODESTAB  CODMUNNASC  LOCNASC  IDADEMAE  ESTCIVMAE  \\\n",
       "0       1  2679477.0      110001        1        19        5.0   \n",
       "1       1  2679477.0      110001        1        29        2.0   \n",
       "2       1  2679477.0      110001        1        37        9.0   \n",
       "3       1  2516500.0      110001        1        30        5.0   \n",
       "4       1  2516500.0      110001        1        30        2.0   \n",
       "\n",
       "            ESCMAE  CODOCUPMAE  QTDFILVIVO  QTDFILMORT  ...  KOTELCHUCK  \\\n",
       "0      8 a 11 anos         NaN         0.0         0.0  ...           5   \n",
       "1      8 a 11 anos    999992.0         1.0         0.0  ...           5   \n",
       "2      8 a 11 anos    513205.0         2.0         0.0  ...           5   \n",
       "3  12 anos ou mais    231205.0         0.0         0.0  ...           4   \n",
       "4      8 a 11 anos    999992.0         1.0         0.0  ...           5   \n",
       "\n",
       "  CONTADOR munResStatus munResTipo               munResNome  munResUf  \\\n",
       "0        1        ATIVO      MUNIC    Alta Floresta D'Oeste  Rondônia   \n",
       "1        2        ATIVO      MUNIC    Alta Floresta D'Oeste  Rondônia   \n",
       "2        3        ATIVO      MUNIC    Alta Floresta D'Oeste  Rondônia   \n",
       "3        4        ATIVO      MUNIC  Alto Alegre dos Parecis  Rondônia   \n",
       "4        5        ATIVO      MUNIC    Alta Floresta D'Oeste  Rondônia   \n",
       "\n",
       "   munResLat munResLon  munResAlt  munResArea  \n",
       "0  -11.93554 -61.99982      338.0    7067.025  \n",
       "1  -11.93554 -61.99982      338.0    7067.025  \n",
       "2  -11.93554 -61.99982      338.0    7067.025  \n",
       "3  -12.13178 -61.85308      397.0    3958.273  \n",
       "4  -11.93554 -61.99982      338.0    7067.025  \n",
       "\n",
       "[5 rows x 69 columns]"
      ]
     },
     "execution_count": 72,
     "metadata": {},
     "output_type": "execute_result"
    }
   ],
   "source": [
    "sinasc_raw = pd.read_csv('SINASC_RO_2019.csv')\n",
    "sinasc_raw.head()"
   ]
  },
  {
   "cell_type": "code",
   "execution_count": null,
   "metadata": {},
   "outputs": [],
   "source": []
  },
  {
   "cell_type": "markdown",
   "metadata": {},
   "source": [
    "# Tarefa 1"
   ]
  },
  {
   "cell_type": "markdown",
   "metadata": {},
   "source": [
    "### 1. Idade media das mães e dos pais por município (coluna munResNome)\n",
    "\n",
    "\n"
   ]
  },
  {
   "cell_type": "code",
   "execution_count": 171,
   "metadata": {},
   "outputs": [
    {
     "name": "stdout",
     "output_type": "stream",
     "text": [
      "munResNome\n",
      "Alta Floresta D'Oeste        25.991826\n",
      "Alto Alegre dos Parecis      24.844156\n",
      "Alto Paraíso                 24.960177\n",
      "Alvorada D'Oeste             25.770732\n",
      "Ariquemes                    25.607866\n",
      "Buritis                      25.559177\n",
      "Cabixi                       26.037500\n",
      "Cacaulândia                  25.546667\n",
      "Cacoal                       26.890102\n",
      "Campo Novo de Rondônia       24.825301\n",
      "Candeias do Jamari           25.243323\n",
      "Castanheiras                 27.281250\n",
      "Cerejeiras                   27.240506\n",
      "Chupinguaia                  25.333333\n",
      "Colorado do Oeste            27.602804\n",
      "Corumbiara                   24.716535\n",
      "Costa Marques                24.412017\n",
      "Cujubim                      24.482927\n",
      "Espigão D'Oeste              26.093333\n",
      "Governador Jorge Teixeira    24.401786\n",
      "Guajará-Mirim                25.462228\n",
      "Itapuã do Oeste              26.064220\n",
      "Jaru                         25.982974\n",
      "Ji-Paraná                    26.361137\n",
      "Machadinho D'Oeste           25.480000\n",
      "Ministro Andreazza           27.904762\n",
      "Mirante da Serra             26.304878\n",
      "Monte Negro                  25.648241\n",
      "Município ignorado - RO      24.000000\n",
      "Nova Brasilândia D'Oeste     26.222222\n",
      "Nova Mamoré                  25.326389\n",
      "Nova União                   26.894231\n",
      "Novo Horizonte do Oeste      26.938776\n",
      "Ouro Preto do Oeste          26.375594\n",
      "Parecis                      26.454545\n",
      "Pimenta Bueno                25.199675\n",
      "Pimenteiras do Oeste         25.075000\n",
      "Porto Velho                  26.312670\n",
      "Presidente Médici            25.796053\n",
      "Primavera de Rondônia        27.023256\n",
      "Rio Crespo                   26.660000\n",
      "Rolim de Moura               26.600863\n",
      "Santa Luzia D'Oeste          26.121212\n",
      "Seringueiras                 24.910714\n",
      "São Felipe D'Oeste           26.481481\n",
      "São Francisco do Guaporé     25.660066\n",
      "São Miguel do Guaporé        25.926346\n",
      "Teixeirópolis                26.031250\n",
      "Theobroma                    25.536082\n",
      "Urupá                        26.688235\n",
      "Vale do Anari                26.096774\n",
      "Vale do Paraíso              25.679012\n",
      "Vilhena                      26.433962\n",
      "Name: IDADEMAE, dtype: float64\n"
     ]
    }
   ],
   "source": [
    "sinasc_raw_idademediamae = sinasc_raw.groupby('munResNome')['IDADEMAE'].apply(np.mean)\n",
    "print(sinasc_raw_idademediamae)\n",
    "\n",
    "# Este trecho calcula a idade média das mães, por município de residência..."
   ]
  },
  {
   "cell_type": "code",
   "execution_count": 183,
   "metadata": {},
   "outputs": [
    {
     "name": "stdout",
     "output_type": "stream",
     "text": [
      "munResNome\n",
      "Alta Floresta D'Oeste        29.548701\n",
      "Alto Alegre dos Parecis      29.179104\n",
      "Alto Paraíso                 28.833333\n",
      "Alvorada D'Oeste             30.757282\n",
      "Ariquemes                    32.466667\n",
      "Buritis                      30.812500\n",
      "Cabixi                       34.333333\n",
      "Cacaulândia                  36.333333\n",
      "Cacoal                       30.931854\n",
      "Campo Novo de Rondônia       30.500000\n",
      "Candeias do Jamari           29.894737\n",
      "Castanheiras                 30.392857\n",
      "Cerejeiras                   31.652778\n",
      "Chupinguaia                  29.629630\n",
      "Colorado do Oeste            34.354839\n",
      "Corumbiara                   32.470588\n",
      "Costa Marques                30.613636\n",
      "Cujubim                      31.400000\n",
      "Espigão D'Oeste              31.198113\n",
      "Governador Jorge Teixeira    29.222222\n",
      "Guajará-Mirim                30.470588\n",
      "Itapuã do Oeste              42.500000\n",
      "Jaru                         32.197183\n",
      "Ji-Paraná                    31.132239\n",
      "Machadinho D'Oeste           31.326923\n",
      "Ministro Andreazza           33.849315\n",
      "Mirante da Serra             32.154762\n",
      "Monte Negro                  34.678571\n",
      "Município ignorado - RO      22.000000\n",
      "Nova Brasilândia D'Oeste     30.520833\n",
      "Nova Mamoré                  31.692308\n",
      "Nova União                   31.371429\n",
      "Novo Horizonte do Oeste      31.588235\n",
      "Ouro Preto do Oeste          31.233244\n",
      "Parecis                      32.473684\n",
      "Pimenta Bueno                29.745174\n",
      "Pimenteiras do Oeste         35.600000\n",
      "Porto Velho                  32.352679\n",
      "Presidente Médici            30.150754\n",
      "Primavera de Rondônia        31.888889\n",
      "Rio Crespo                   28.000000\n",
      "Rolim de Moura               30.360479\n",
      "Santa Luzia D'Oeste          30.703297\n",
      "Seringueiras                 30.500000\n",
      "São Felipe D'Oeste           31.395833\n",
      "São Francisco do Guaporé     31.638889\n",
      "São Miguel do Guaporé        32.666667\n",
      "Teixeirópolis                31.500000\n",
      "Theobroma                    30.083333\n",
      "Urupá                        31.008929\n",
      "Vale do Anari                34.000000\n",
      "Vale do Paraíso              29.976744\n",
      "Vilhena                      34.152941\n",
      "Name: IDADEPAI, dtype: float64\n"
     ]
    }
   ],
   "source": [
    "sinasc_raw_idademediapai = sinasc_raw.groupby('munResNome')['IDADEPAI'].apply(np.mean)\n",
    "\n",
    "print(sinasc_raw_idademediapai)\n",
    "\n",
    "# Este trecho calcula a idade media do pai..."
   ]
  },
  {
   "cell_type": "markdown",
   "metadata": {},
   "source": [
    "### 2. Peso médio dos bebes por sexo que nasceram no dia do seu aniversário por faixas de escolaridade mae\n",
    "Ex: Você, aluna(o), nasceu no dia 10/01, então você precisa filtrar o conjunto de dados nessa data e calcular o peso médio dos bebês de cada sexo por faixa de escolaridade da mãe."
   ]
  },
  {
   "cell_type": "code",
   "execution_count": null,
   "metadata": {},
   "outputs": [],
   "source": [
    "sinasc_raw['DTNASC'].head()"
   ]
  },
  {
   "cell_type": "code",
   "execution_count": 181,
   "metadata": {},
   "outputs": [
    {
     "name": "stdout",
     "output_type": "stream",
     "text": [
      "DTNASC\n",
      "2019-06-28    3212.915663\n",
      "Name: PESO, dtype: float64\n"
     ]
    }
   ],
   "source": [
    "bool_aniversario = sinasc_raw['DTNASC'].apply(lambda x: x[5:10]) == '06-28'\n",
    "sinasc_aniversario = sinasc_raw[bool_aniversario]\n",
    "sinasc_aniversario_peso = sinasc_aniversario.groupby('DTNASC')['PESO'].apply(np.mean)\n",
    "print(sinasc_aniversario_peso)\n",
    "\n",
    "# Este trecho de código calcula qual o peso médio das crianças nascidas no dia do meu aniversário, isto é, 28 de junho."
   ]
  },
  {
   "cell_type": "markdown",
   "metadata": {},
   "source": [
    "### 3. Qual o municipio que nasceu menos bebe em 2019?\n",
    "    - qual a idade media, maxima, minima das maes nesse municipio?\n",
    "    - qual a idade media, maxima, minima dos pais nesse municipio?"
   ]
  },
  {
   "cell_type": "code",
   "execution_count": null,
   "metadata": {},
   "outputs": [],
   "source": [
    "print(sinasc_raw.columns)\n",
    "sinasc_raw['munResNome'].value_counts()\n",
    "\n",
    "# ESte trecho enumera em ordem decrescentes quais municípios aparecem mais vezes no dataframe, ou seja, em qual deles nasceram mais bebes. Oficialmente\n",
    "# o minimo do nosso dataframe é \"Município Ignorado\", mas, como este não é um município em si, e sim um código para vacância, vamos considerar o\n",
    "# penúltimo. Que é: Castanheiras.\n",
    "\n",
    "sinasc_Castanheiras_bool = sinasc_raw['munResNome'] == 'Castanheiras'\n",
    "sinasc_Castanheiras = sinasc_raw[sinasc_Castanheiras_bool]\n",
    "idade_media_maeCast = sinasc_Castanheiras.groupby('munResNome')['IDADEMAE'].apply(np.mean)\n",
    "\n",
    "print(f'Idade media das mães em castanheiras é: {idade_media_maeCast.values}')\n",
    "# Este trecho calcula a idade media das maes no município de castanheiras.\n",
    "\n",
    "idade_min_maeCast = sinasc_Castanheiras.groupby('munResNome')['IDADEMAE'].apply(min)\n",
    "\n",
    "print(f'A idade minima que uma mãe tinha em castanheiras era: {idade_min_maeCast.values} ')\n",
    "\n",
    "idade_max_maeCast = sinasc_Castanheiras.groupby('munResNome')['IDADEMAE'].apply(max)\n",
    "\n",
    "print(f'A idade máxima das mães em castanheiras era: {idade_max_maeCast.values}')\n",
    "\n",
    "\n",
    "\n",
    "idade_minima_paiCast = sinasc_Castanheiras.groupby('munResNome')['IDADEPAI'].apply(min)\n",
    "\n",
    "print(f'A idade mínima de um pai em castanheiras foi {idade_minima_paiCast.values}')\n",
    "\n",
    "idade_media_paiCast = sinasc_Castanheiras.groupby('munResNome')['IDADEPAI'].apply(np.mean)\n",
    "\n",
    "idade_max_paiCast = sinasc_Castanheiras.groupby('munResNome')['IDADEMAE'].apply(max)\n",
    "\n",
    "print(f'A idade maxima de um pai em castanheiras foi {idade_max_paiCast.values}')\n",
    "# Este trecho calcula a idade media das maes no município de castanheiras\n",
    "\n",
    "print(idade_media_maeCast)\n",
    "print(idade_media_paiCast)\n"
   ]
  },
  {
   "cell_type": "markdown",
   "metadata": {},
   "source": [
    "**Acima, podemos ver que a idade mínima de um pai na cidade de \"Castanheiras\" aparece como NaN, o que provavelmente se deve ao fato de o NAN estar sendo considerado como 0, ou até menor que zero. Por isso, para corrigir este problema, vamos realizar um drop NaN nesta coluna do nosso dataframe. Teremos então:**"
   ]
  },
  {
   "cell_type": "code",
   "execution_count": null,
   "metadata": {},
   "outputs": [],
   "source": [
    "sinasc_Castanheiras.dropna(subset=['IDADEPAI'], inplace=True)\n",
    "idade_minPai = sinasc_Castanheiras.groupby('munResNome')['IDADEPAI'].apply(min)\n",
    "print(idade_minPai)"
   ]
  },
  {
   "cell_type": "markdown",
   "metadata": {},
   "source": [
    "### 4. Qual o municipio que nasceu mais bebe no mês de março?\n",
    "    - qual a quantidade de filhos vivos media, maxima, minima nesse municipio?\n",
    "    - qual a idade media, maxima, minima dos pais nesse municipio?\n",
    "\n"
   ]
  },
  {
   "cell_type": "markdown",
   "metadata": {},
   "source": [
    "Aqui, precisaremos mapear os bebês que nasceram no mês de março, para, então, aplicar um value_counts nele, e ver qual município aparece mais vezes! Se dermos um print com head na variável data de nascimento, teremos:"
   ]
  },
  {
   "cell_type": "code",
   "execution_count": null,
   "metadata": {},
   "outputs": [],
   "source": [
    "sinasc_raw['DTNASC'].head()"
   ]
  },
  {
   "cell_type": "markdown",
   "metadata": {},
   "source": [
    "Se observarmos, o dígito da string que contém o nosso valioso mês de nascimento são os dígitos 5 e 6. Portanto, vamos precisar de um slice do 5 ao , oque podemos fazer usando a função lambda. Vejamos:"
   ]
  },
  {
   "cell_type": "code",
   "execution_count": 124,
   "metadata": {},
   "outputs": [
    {
     "name": "stdout",
     "output_type": "stream",
     "text": [
      "A quantidade de filhos vivos é:[1.16723596]\n",
      "A quantidade máxima de filhos vivos é: [nan]\n",
      "A quantidade máxima de filhos vivos é: [7.]\n",
      "A quantidade mínima de filhos vivos é [0.]\n"
     ]
    },
    {
     "name": "stderr",
     "output_type": "stream",
     "text": [
      "C:\\Users\\Matheus\\AppData\\Local\\Temp\\ipykernel_15604\\251452722.py:17: FutureWarning: The provided callable <built-in function max> is currently using np.maximum.reduce. In a future version of pandas, the provided callable will be used directly. To keep current behavior pass the string np.maximum.reduce instead.\n",
      "  qtdvivomax = sinasc_portoVelho.groupby('munResNome')['QTDFILVIVO'].apply(max)\n",
      "C:\\Users\\Matheus\\AppData\\Local\\Temp\\ipykernel_15604\\251452722.py:23: SettingWithCopyWarning: \n",
      "A value is trying to be set on a copy of a slice from a DataFrame\n",
      "\n",
      "See the caveats in the documentation: https://pandas.pydata.org/pandas-docs/stable/user_guide/indexing.html#returning-a-view-versus-a-copy\n",
      "  sinasc_portoVelho.dropna(subset=['QTDFILVIVO', 'IDADEPAI', 'IDADEMAE'], inplace=True)\n",
      "C:\\Users\\Matheus\\AppData\\Local\\Temp\\ipykernel_15604\\251452722.py:28: FutureWarning: The provided callable <built-in function max> is currently using np.maximum.reduce. In a future version of pandas, the provided callable will be used directly. To keep current behavior pass the string np.maximum.reduce instead.\n",
      "  qtdvivomax = sinasc_portoVelho.groupby('munResNome')['QTDFILVIVO'].apply(max)\n",
      "C:\\Users\\Matheus\\AppData\\Local\\Temp\\ipykernel_15604\\251452722.py:33: FutureWarning: The provided callable <built-in function min> is currently using np.minimum.reduce. In a future version of pandas, the provided callable will be used directly. To keep current behavior pass the string np.minimum.reduce instead.\n",
      "  qtdvivomin = sinasc_portoVelho.groupby('munResNome')['QTDFILVIVO'].apply(min)\n"
     ]
    }
   ],
   "source": [
    "bool_marco = (sinasc_raw['DTNASC'].apply(lambda x: x[5:7]) == '03')\n",
    "sinasc_marco = sinasc_raw[bool_marco]\n",
    "sinasc_marco['munResNome'].value_counts()\n",
    "\n",
    "# portanto, vemos que o município que mais nasceram bebês no mês de março foi a cidade de Porto Vewlho! Com 744 bebês.\n",
    "\n",
    "# a segunda parte do exercício requer que tratemos os dados apenas deste município. Então, vamos criar um novo dataframe que conhtenha apenas os dados\n",
    "# de porto velho.\n",
    "\n",
    "bool_portoVelho = (sinasc_raw['munResNome']=='Porto Velho')\n",
    "sinasc_portoVelho = sinasc_raw[bool_portoVelho]\n",
    "\n",
    "#Agora, podemos trabalhar no nosso dataframe para terminar o exercício, calculando: Qual a quantidade de filhos vivos max, media e min:\n",
    "\n",
    "qtdvivomedia = sinasc_portoVelho.groupby('munResNome')['QTDFILVIVO'].apply(np.mean)\n",
    "print(f'A quantidade de filhos vivos é:{qtdvivomedia.values}')\n",
    "qtdvivomax = sinasc_portoVelho.groupby('munResNome')['QTDFILVIVO'].apply(max)\n",
    "print(f'A quantidade máxima de filhos vivos é: {qtdvivomax.values}')\n",
    "\n",
    "# Tivemos novamente o mesmo problema com o NaN aparecendo como valor máximo ou mínimo. Vamos limpar estas variáveis para evitar que os dados missing\n",
    "# se coloquem entre nós e nossa análise novamente.\n",
    "\n",
    "sinasc_portoVelho.dropna(subset=['QTDFILVIVO', 'IDADEPAI', 'IDADEMAE'], inplace=True)\n",
    "\n",
    "sinasc_portoVelho.head()\n",
    "\n",
    "# Agora, repitamos a mesma linha de código que antes resultou em um missing como retorno:\n",
    "qtdvivomax = sinasc_portoVelho.groupby('munResNome')['QTDFILVIVO'].apply(max)\n",
    "print(f'A quantidade máxima de filhos vivos é: {qtdvivomax.values}')\n",
    "\n",
    "#Vemos que, de fato, nosso problema foi resolvido. Continuemos:\n",
    "\n",
    "qtdvivomin = sinasc_portoVelho.groupby('munResNome')['QTDFILVIVO'].apply(min)\n",
    "print(f'A quantidade mínima de filhos vivos é {qtdvivomin.values}')\n",
    "\n",
    "# Este resultado (0) já era esperado, visto que era pouquíssimo improvável que não houvesse entre todos os nascidos em porto velho, um único primeiro\n",
    "# filho."
   ]
  },
  {
   "cell_type": "markdown",
   "metadata": {},
   "source": [
    "Vamos agora analisar a cidade de Porto Velho quanto às idades dos pais. A começar pelas idades das mães:"
   ]
  },
  {
   "cell_type": "code",
   "execution_count": 167,
   "metadata": {},
   "outputs": [
    {
     "name": "stdout",
     "output_type": "stream",
     "text": [
      "44.0\n",
      "65.0\n",
      "12.0\n",
      "16.0\n",
      "28.601045296167246\n",
      "32.653310104529616\n"
     ]
    }
   ],
   "source": [
    "resultados = sinasc_portoVelho.agg({'IDADEMAE': 'max', 'IDADEPAI': 'max'})\n",
    "\n",
    "maxmae, maxpai = resultados[['IDADEMAE','IDADEPAI']]\n",
    "print(maxmae)\n",
    "print(maxpai)\n",
    "\n",
    "resultados = sinasc_portoVelho.agg({'IDADEMAE': 'min', 'IDADEPAI': 'min'})\n",
    "\n",
    "minmae, minpai = resultados[['IDADEMAE', 'IDADEPAI']]\n",
    "print(minmae)\n",
    "print(minpai)\n",
    "\n",
    "resultados = sinasc_portoVelho.agg({'IDADEMAE':'mean', 'IDADEPAI': 'mean'})\n",
    "\n",
    "mediamae, mediapai = resultados[['IDADEMAE','IDADEPAI']]\n",
    "print(mediamae)\n",
    "print(mediapai)"
   ]
  },
  {
   "cell_type": "markdown",
   "metadata": {},
   "source": [
    "### Analise as respostas encontradas, tire algum insight delas, conte pra gente algo encontrado nos dados. Algo que você julgue relevante e novo pra você."
   ]
  },
  {
   "cell_type": "markdown",
   "metadata": {},
   "source": [
    "Exemplo:\n",
    "- Ah, descobri que a idade mediana das mulheres que deram a luz no ano de 2019 dos municipios x é maior que y."
   ]
  },
  {
   "cell_type": "markdown",
   "metadata": {},
   "source": [
    "De todos os insights que tive ao manipular os dados, tanto nesta edição quanto na anterior, a que mais me chamou a atenção ou me incomodou, foi a idade mínima das mães, em que, neste, em que nos restringimos à idade mínima das mães de uma única cidade, obtivemos a idade mínima 12, e na anterior, obtivemos 11, se não me engano. Um sinal preocupante, visto que, perante a lei brasileira, com ou sem consenso, com ou sem aprovação dos pais, o sexo quando praticado por menores de 14 se enquadra como estupro de vulnerável, o que, no entanto, como sabem bem quase todos os brasileiros, é uma lei completamente ignorada tanto pelos cidadãos quanto pelo poder público, onde a normalização da pedofilia e objetificação sexual de menores avança indiscriminadamente há décadas."
   ]
  },
  {
   "cell_type": "code",
   "execution_count": null,
   "metadata": {},
   "outputs": [],
   "source": [
    "sinasc_raw.dtypes"
   ]
  },
  {
   "cell_type": "code",
   "execution_count": null,
   "metadata": {},
   "outputs": [],
   "source": [
    "sinasc_raw.select_dtypes(exclude=['int64','float64'])"
   ]
  },
  {
   "cell_type": "code",
   "execution_count": null,
   "metadata": {},
   "outputs": [],
   "source": [
    "sinasc_raw.columns"
   ]
  }
 ],
 "metadata": {
  "kernelspec": {
   "display_name": "Python 3 (ipykernel)",
   "language": "python",
   "name": "python3"
  },
  "language_info": {
   "codemirror_mode": {
    "name": "ipython",
    "version": 3
   },
   "file_extension": ".py",
   "mimetype": "text/x-python",
   "name": "python",
   "nbconvert_exporter": "python",
   "pygments_lexer": "ipython3",
   "version": "3.12.4"
  },
  "varInspector": {
   "cols": {
    "lenName": 16,
    "lenType": 16,
    "lenVar": 40
   },
   "kernels_config": {
    "python": {
     "delete_cmd_postfix": "",
     "delete_cmd_prefix": "del ",
     "library": "var_list.py",
     "varRefreshCmd": "print(var_dic_list())"
    },
    "r": {
     "delete_cmd_postfix": ") ",
     "delete_cmd_prefix": "rm(",
     "library": "var_list.r",
     "varRefreshCmd": "cat(var_dic_list()) "
    }
   },
   "types_to_exclude": [
    "module",
    "function",
    "builtin_function_or_method",
    "instance",
    "_Feature"
   ],
   "window_display": false
  }
 },
 "nbformat": 4,
 "nbformat_minor": 4
}
