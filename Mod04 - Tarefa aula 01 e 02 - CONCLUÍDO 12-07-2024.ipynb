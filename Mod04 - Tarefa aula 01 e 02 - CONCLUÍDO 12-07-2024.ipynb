{
 "cells": [
  {
   "cell_type": "markdown",
   "metadata": {},
   "source": [
    "# Tarefa 01\n",
    "\n",
    "- Leia os enunciados com atenção\n",
    "- Saiba que pode haver mais de uma resposta correta\n",
    "- Insira novas células de código sempre que achar necessário\n",
    "- Em caso de dúvidas, procure os tutores\n",
    "- Divirta-se :)\n",
    "\n",
    "#### 1)  crie uma série do pandas a partir de uma lista com os dados abaixo:\n",
    "\n",
    "Em um estudo sobre alteração na tempreatura global, A NASA disponibiliza dados de diferenças de de temperatura média da superfície terrestre relativos às médias de temperatura entre 1951 e 1980. Os dados originais podem ser vistos no site da NASA/GISS, e estão dispostos a cada década na tabela abaixo.\n",
    "\n",
    "|ano|anomalia termica|\n",
    "|:-:|:----:|\n",
    "| 1900 | -0.08 |\n",
    "| 1920 | -0.27 |\n",
    "| 1940 | 0.12 |\n",
    "| 1960 | -0.03 |\n",
    "| 1980 | 0.26 |\n",
    "| 2000 | 0.40 |\n",
    "| 2020 | 1.02 |\n",
    "\n",
    "Crie uma séries do Pandas a partir de uma lista com esses dados."
   ]
  },
  {
   "cell_type": "code",
   "execution_count": 80,
   "metadata": {},
   "outputs": [],
   "source": [
    "import pandas as pd\n",
    "import numpy as np\n",
    "import math\n",
    "\n",
    "# Seu código aqui\n",
    "\n",
    "\n",
    "ano = [1900,1920,1940,1960,1980,2000,2020]\n",
    "anomaly = [-0.08, -0.27, 0.12, -0.03, 0.26, 0.40, 1.02]"
   ]
  },
  {
   "cell_type": "markdown",
   "metadata": {},
   "source": [
    "#### 2) Coloque os anos nos índices conforme a tabela."
   ]
  },
  {
   "cell_type": "code",
   "execution_count": 82,
   "metadata": {},
   "outputs": [
    {
     "name": "stdout",
     "output_type": "stream",
     "text": [
      "1900   -0.08\n",
      "1920   -0.27\n",
      "1940    0.12\n",
      "1960   -0.03\n",
      "1980    0.26\n",
      "2000    0.40\n",
      "2020    1.02\n",
      "dtype: float64\n"
     ]
    }
   ],
   "source": [
    "\n",
    "# seu código aqui\n",
    "historical_anomalies = pd.Series(data=anomaly, index=ano)\n",
    "print(historical_anomalies)"
   ]
  },
  {
   "cell_type": "markdown",
   "metadata": {},
   "source": [
    "Neste momento, unimos as duas listas que criamos nos blocos anteriores, e criamos uma Serie do pandas para representar e indexar estes dados, atribuindo a cada ano a sua anomalia."
   ]
  },
  {
   "cell_type": "markdown",
   "metadata": {},
   "source": [
    "#### 3) A partir do dicionário abaixo, crie uma séries do Pandas:"
   ]
  },
  {
   "cell_type": "code",
   "execution_count": 85,
   "metadata": {},
   "outputs": [
    {
     "name": "stdout",
     "output_type": "stream",
     "text": [
      "1900   -0.08\n",
      "1920   -0.27\n",
      "1940    0.12\n",
      "1960   -0.03\n",
      "1980    0.26\n",
      "2000    0.40\n",
      "2020    1.02\n",
      "dtype: float64\n"
     ]
    }
   ],
   "source": [
    "dic_temperaturas = {1900: -.08, 1920: -.27, 1940: .12, 1960: -.03, 1980: .26, 2000: .40, 2020: 1.02}\n",
    "\n",
    "# seu código aqui\n",
    "\n",
    "hist_anomaly = pd.Series(data=dic_temperaturas.values(), index=dic_temperaturas.keys())\n",
    "print(hist_anomaly)\n"
   ]
  },
  {
   "cell_type": "markdown",
   "metadata": {},
   "source": [
    "Optei por fazer do jeito que meu \"instinto\" mandou, e fiz deste modo! No entanto, chequei a aula para ver como foi feito, e aparentemente, teria funcionado simplesmente fazendo hist_anomaly = pd.Series(dic_temperaturas), e já teria sido feito deste jeito automáticamente... então deixo aqui para registro, que tomei conhecimento de que pode ser feito deste modo também, inclusive, priorizarei ele daqui pra frente... deixo registrado em código abaixo:"
   ]
  },
  {
   "cell_type": "code",
   "execution_count": 87,
   "metadata": {},
   "outputs": [
    {
     "name": "stdout",
     "output_type": "stream",
     "text": [
      "1900   -0.08\n",
      "1920   -0.27\n",
      "1940    0.12\n",
      "1960   -0.03\n",
      "1980    0.26\n",
      "2000    0.40\n",
      "2020    1.02\n",
      "dtype: float64\n"
     ]
    }
   ],
   "source": [
    "hist_anomaly = None\n",
    "hist_anomaly = pd.Series(dic_temperaturas)\n",
    "print(hist_anomaly)"
   ]
  },
  {
   "cell_type": "markdown",
   "metadata": {},
   "source": [
    "#### 4) Transforme o ndarray abaixo em um dataframe. \n",
    "O numpy é capaz de gerar arrays n-dimensionais com números pseudo-aleatórios de acordo com uma variedade de distribuições, como no exemplo abaixo. Transforme esse nd-array em um DataFrame."
   ]
  },
  {
   "cell_type": "code",
   "execution_count": 89,
   "metadata": {},
   "outputs": [
    {
     "name": "stdout",
     "output_type": "stream",
     "text": [
      "             0           1           2\n",
      "0    96.607157  115.463481   93.514159\n",
      "1    75.408422   98.581140  106.688382\n",
      "2   111.079089   86.641599   99.857185\n",
      "3    92.143934   90.698926  109.673064\n",
      "4   112.433098  102.480593  104.294106\n",
      "5   110.131998  105.359602   91.019590\n",
      "6    94.081851  108.621800   89.054968\n",
      "7    82.109564  109.629449  111.598365\n",
      "8    85.193789  109.127228  103.862510\n",
      "9    97.013240  101.392994   98.413496\n",
      "10   80.304231   84.304065   98.467383\n",
      "11  113.700056   97.855612   97.339035\n",
      "12  101.562813  102.894605  104.775192\n",
      "13   86.336627   96.411879   75.376371\n",
      "14   94.488371  112.430074  102.247767\n",
      "15  111.025762   93.523562  101.299561\n",
      "16  109.048303  111.102279   89.937009\n",
      "17  113.246636  116.681602   87.871627\n",
      "18  115.707378   98.644640   89.229637\n",
      "19  112.164118  108.428109   87.419469\n"
     ]
    }
   ],
   "source": [
    "arr = np.random.normal(100, 10, (20,3))\n",
    "\n",
    "df_array = pd.DataFrame(arr)\n",
    "print(df_array)\n",
    "\n",
    "# seu código aqui"
   ]
  },
  {
   "cell_type": "markdown",
   "metadata": {},
   "source": [
    "#### 5) Nomeie os índices das linhas com inteiros de 1 a 20, e as colunas com os nomes \"x1\", \"x2\", e \"x3\" respectivamente."
   ]
  },
  {
   "cell_type": "markdown",
   "metadata": {},
   "source": [
    "Analisei a vídeo aula, e o único método que encontrei de fazer isto, foi criando um dicionário para então criar um DataFrame usando este dicionário. A princípio, achar um método de simplesmente criar uma indexação de 1 a 20 para substituir a de 0 a 19, mas não consegui... no entando, achei que seria muito \"fazer trabalho de idiota\" criar um dicionário chave à chave, então pesquisei como renomear indices e colunas de um DataFrame. Assim sendo, espero que não seja um problema, e segue a solução:"
   ]
  },
  {
   "cell_type": "code",
   "execution_count": 92,
   "metadata": {},
   "outputs": [
    {
     "name": "stdout",
     "output_type": "stream",
     "text": [
      "            x1          x2          x3\n",
      "1    96.607157  115.463481   93.514159\n",
      "2    75.408422   98.581140  106.688382\n",
      "3   111.079089   86.641599   99.857185\n",
      "4    92.143934   90.698926  109.673064\n",
      "5   112.433098  102.480593  104.294106\n",
      "6   110.131998  105.359602   91.019590\n",
      "7    94.081851  108.621800   89.054968\n",
      "8    82.109564  109.629449  111.598365\n",
      "9    85.193789  109.127228  103.862510\n",
      "10   97.013240  101.392994   98.413496\n",
      "11   80.304231   84.304065   98.467383\n",
      "12  113.700056   97.855612   97.339035\n",
      "13  101.562813  102.894605  104.775192\n",
      "14   86.336627   96.411879   75.376371\n",
      "15   94.488371  112.430074  102.247767\n",
      "16  111.025762   93.523562  101.299561\n",
      "17  109.048303  111.102279   89.937009\n",
      "18  113.246636  116.681602   87.871627\n",
      "19  115.707378   98.644640   89.229637\n",
      "20  112.164118  108.428109   87.419469\n"
     ]
    }
   ],
   "source": [
    "#seu código aqui\n",
    "lista_index = list(range(1,21))\n",
    "df_array = df_array.rename(columns={0:'x1',1:'x2',2:'x3'})\n",
    "df_array.index = lista_index\n",
    "print(df_array)"
   ]
  },
  {
   "cell_type": "markdown",
   "metadata": {},
   "source": [
    "Demorei um pouco para entender o que eu de fato estava fazendo, mas creio que o tempo foi muito melhor empregado do que teria sido simplesmente copiando os valores da tabela... e realmente tenho fé que lembrarei este método no futuro..."
   ]
  },
  {
   "cell_type": "markdown",
   "metadata": {},
   "source": [
    "#### 6) No DataFrame do exercício 5, crie uma nova coluna como sendo a média das três colunas, e dê a ela o nome de \"media\" (não recomendo colocar acentos em nomes de variáveis)."
   ]
  },
  {
   "cell_type": "code",
   "execution_count": 95,
   "metadata": {},
   "outputs": [
    {
     "name": "stdout",
     "output_type": "stream",
     "text": [
      "            x1          x2          x3       media\n",
      "1    96.607157  115.463481   93.514159  101.861599\n",
      "2    75.408422   98.581140  106.688382   93.559314\n",
      "3   111.079089   86.641599   99.857185   99.192625\n",
      "4    92.143934   90.698926  109.673064   97.505308\n",
      "5   112.433098  102.480593  104.294106  106.402599\n",
      "6   110.131998  105.359602   91.019590  102.170397\n",
      "7    94.081851  108.621800   89.054968   97.252873\n",
      "8    82.109564  109.629449  111.598365  101.112459\n",
      "9    85.193789  109.127228  103.862510   99.394509\n",
      "10   97.013240  101.392994   98.413496   98.939910\n",
      "11   80.304231   84.304065   98.467383   87.691893\n",
      "12  113.700056   97.855612   97.339035  102.964901\n",
      "13  101.562813  102.894605  104.775192  103.077536\n",
      "14   86.336627   96.411879   75.376371   86.041625\n",
      "15   94.488371  112.430074  102.247767  103.055404\n",
      "16  111.025762   93.523562  101.299561  101.949628\n",
      "17  109.048303  111.102279   89.937009  103.362530\n",
      "18  113.246636  116.681602   87.871627  105.933288\n",
      "19  115.707378   98.644640   89.229637  101.193885\n",
      "20  112.164118  108.428109   87.419469  102.670565\n"
     ]
    }
   ],
   "source": [
    "# seu código aqui\n",
    "df_array['media'] = (df_array['x1']+df_array['x2']+df_array['x3'])/3\n",
    "print(df_array)"
   ]
  },
  {
   "cell_type": "markdown",
   "metadata": {},
   "source": [
    "#### 7) No DataFrame do exercício 6, crie uma nova coluna chamada \"log_med\", contendo o logaritmo natural da média calculada no exercício 6 <br>"
   ]
  },
  {
   "cell_type": "code",
   "execution_count": 116,
   "metadata": {},
   "outputs": [
    {
     "name": "stdout",
     "output_type": "stream",
     "text": [
      "2.718281828459045\n",
      "1.0\n",
      "            x1          x2          x3       media   log_med\n",
      "1    96.607157  115.463481   93.514159  101.861599  4.623615\n",
      "2    75.408422   98.581140  106.688382   93.559314  4.538596\n",
      "3   111.079089   86.641599   99.857185   99.192625  4.597064\n",
      "4    92.143934   90.698926  109.673064   97.505308  4.579907\n",
      "5   112.433098  102.480593  104.294106  106.402599  4.667230\n",
      "6   110.131998  105.359602   91.019590  102.170397  4.626642\n",
      "7    94.081851  108.621800   89.054968   97.252873  4.577315\n",
      "8    82.109564  109.629449  111.598365  101.112459  4.616233\n",
      "9    85.193789  109.127228  103.862510   99.394509  4.599097\n",
      "10   97.013240  101.392994   98.413496   98.939910  4.594513\n",
      "11   80.304231   84.304065   98.467383   87.691893  4.473829\n",
      "12  113.700056   97.855612   97.339035  102.964901  4.634388\n",
      "13  101.562813  102.894605  104.775192  103.077536  4.635481\n",
      "14   86.336627   96.411879   75.376371   86.041625  4.454831\n",
      "15   94.488371  112.430074  102.247767  103.055404  4.635267\n",
      "16  111.025762   93.523562  101.299561  101.949628  4.624479\n",
      "17  109.048303  111.102279   89.937009  103.362530  4.638243\n",
      "18  113.246636  116.681602   87.871627  105.933288  4.662810\n",
      "19  115.707378   98.644640   89.229637  101.193885  4.617038\n",
      "20  112.164118  108.428109   87.419469  102.670565  4.631525\n"
     ]
    }
   ],
   "source": [
    "# seu código aqui\n",
    "print(math.e)\n",
    "\n",
    "print(math.log(math.e))\n",
    "\n",
    "df_array['log_med'] = df_array['media'].apply(math.log)\n",
    "\n",
    "print(df_array)"
   ]
  },
  {
   "cell_type": "markdown",
   "metadata": {},
   "source": [
    "Procurei no chat gpt como calcular logaritimo natural no python e ele me explicou que era só usar a função log. Eu fiquei em dúvida se era isso mesmo, pois log, frequentemente se refere ao logaritimo em base 10, e não em base neperiana (natural) então estas linhas foram para checkar... de fato, estava correto! Foi necessário usar também a função apply..."
   ]
  }
 ],
 "metadata": {
  "kernelspec": {
   "display_name": "Python 3 (ipykernel)",
   "language": "python",
   "name": "python3"
  },
  "language_info": {
   "codemirror_mode": {
    "name": "ipython",
    "version": 3
   },
   "file_extension": ".py",
   "mimetype": "text/x-python",
   "name": "python",
   "nbconvert_exporter": "python",
   "pygments_lexer": "ipython3",
   "version": "3.12.4"
  }
 },
 "nbformat": 4,
 "nbformat_minor": 4
}
