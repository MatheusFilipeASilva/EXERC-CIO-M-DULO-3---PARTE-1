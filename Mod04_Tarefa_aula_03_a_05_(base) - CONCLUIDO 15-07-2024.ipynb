{
 "cells": [
  {
   "cell_type": "markdown",
   "metadata": {
    "id": "njUvbhQmC8-t"
   },
   "source": [
    "## Exercício 1: Vestibular\n",
    "\n",
    "Considere que a os dados gerados na célula abaixo contêm o número de acertos de 100 alunos em um vestibular para um curso de exatas, divididas pelos respectivos assuntos. Considere que cada assunto possui um número de questões conforme a tabela abaixo:\n",
    "\n",
    "| assunto | número de questões |\n",
    "|:---:|:---:|\n",
    "| Matemática | 24 |\n",
    "| Português | 18 |\n",
    "| Geografia | 8 |\n",
    "| Inglês | 8 |\n",
    "| História | 8 |\n",
    "| Física | 12 |\n",
    "| Química | 12 |\n",
    "\n",
    "Usando os comandos de operações com DataFrames que você aprendeu na Aula 03, calcule:\n",
    "\n",
    "1. (operações com escalar) Calcule o percentual de acerto dos alunos por assunto.  \n",
    "2. (operações entre *DataFrames) Calcule o total de acertos de cada aluno.  \n",
    "3. Calcule o porcentual geral de cada aluno.  \n",
    "4. Suponha que a nota de corte para a segunda fase seja 45. Quantos alunos tiveram nota maior que 45?  "
   ]
  },
  {
   "cell_type": "code",
   "execution_count": 2,
   "metadata": {
    "id": "Ll6TadxCC8-y"
   },
   "outputs": [],
   "source": [
    "import pandas as pd\n",
    "import numpy as np\n",
    "\n",
    "np.random.seed(42)\n",
    "df_mat = pd.DataFrame(np.random.randint(24, size=(100, 1)), columns=['Qt_acertos'])\n",
    "\n",
    "df_por = pd.DataFrame(np.random.randint(18, size=(100, 1)), columns=['Qt_acertos'])\n",
    "\n",
    "df_geo = pd.DataFrame(np.random.randint(8, size=(100, 1)), columns=['Qt_acertos'])\n",
    "\n",
    "df_ing = pd.DataFrame(np.random.randint(8, size=(100, 1)), columns=['Qt_acertos'])\n",
    "\n",
    "df_his = pd.DataFrame(np.random.randint(8, size=(100, 1)), columns=['Qt_acertos'])\n",
    "\n",
    "df_fis = pd.DataFrame(np.random.randint(12, size=(100, 1)), columns=['Qt_acertos'])\n",
    "\n",
    "df_qui = pd.DataFrame(np.random.randint(12, size=(100, 1)), columns=['Qt_acertos'])"
   ]
  },
  {
   "cell_type": "code",
   "execution_count": 3,
   "metadata": {
    "id": "JVmLXiC2C8-0"
   },
   "outputs": [],
   "source": [
    "# 1) Seu código aqui\n",
    "qt_questoes = [24, 18, 8, 8, 8, 12, 12]\n",
    "c = 0\n",
    "lista_df = [df_mat, df_por, df_geo, df_ing, df_his, df_fis, df_qui]\n",
    "for df in lista_df:\n",
    "    df['Media_disciplina'] = df['Qt_acertos']/qt_questoes[c]\n",
    "    c += 1\n"
   ]
  },
  {
   "cell_type": "code",
   "execution_count": 4,
   "metadata": {
    "id": "JbTwCyNHC8-1"
   },
   "outputs": [
    {
     "name": "stdout",
     "output_type": "stream",
     "text": [
      "    Qtd_total_acertos\n",
      "0                  35\n",
      "1                  48\n",
      "2                  50\n",
      "3                  32\n",
      "4                  30\n",
      "..                ...\n",
      "95                 34\n",
      "96                 27\n",
      "97                 40\n",
      "98                 40\n",
      "99                 42\n",
      "\n",
      "[100 rows x 1 columns]\n"
     ]
    }
   ],
   "source": [
    "# 2) Seu código aqui\n",
    "soma = pd.Series()\n",
    "for df in lista_df:\n",
    "    soma = sum(lista_df)\n",
    "\n",
    "#Este pequeno código abaixo foi para averiguar se realmente fazia sentido os dados. Tamos como máximo de\n",
    "#Acertos de um único estudante, 66. A tendência dos dados é de formarem uma gaussiana em torno de 45, e\n",
    "#Quanto mais longe de 45, menor a probabilidade de ocorrer, já que os dados foram criados de forma\n",
    "#Aleatória. Portanto, 66 é um número razoável, especialmente ao vermos que os resultados parecem\n",
    "#Concentrados em torno de 45.\n",
    "max(soma['Qt_acertos'])\n",
    "df_total_acertos = pd.DataFrame()\n",
    "\n",
    "df_total_acertos['Qtd_total_acertos'] = soma['Qt_acertos']\n",
    "print(df_total_acertos)"
   ]
  },
  {
   "cell_type": "code",
   "execution_count": 5,
   "metadata": {
    "id": "c2L8dJkVC8-3"
   },
   "outputs": [
    {
     "name": "stdout",
     "output_type": "stream",
     "text": [
      "    Qtd_total_acertos  Percentual de acertos\n",
      "0                  35               0.388889\n",
      "1                  48               0.533333\n",
      "2                  50               0.555556\n",
      "3                  32               0.355556\n",
      "4                  30               0.333333\n",
      "..                ...                    ...\n",
      "95                 34               0.377778\n",
      "96                 27               0.300000\n",
      "97                 40               0.444444\n",
      "98                 40               0.444444\n",
      "99                 42               0.466667\n",
      "\n",
      "[100 rows x 2 columns]\n"
     ]
    }
   ],
   "source": [
    "# 3) Seu código aqui\n",
    "df_total_acertos['Percentual de acertos'] = df_total_acertos['Qtd_total_acertos']/sum(qt_questoes)\n",
    "\n",
    "print(df_total_acertos)"
   ]
  },
  {
   "cell_type": "code",
   "execution_count": 6,
   "metadata": {
    "id": "PZTZ7DFzC8-3"
   },
   "outputs": [
    {
     "name": "stdout",
     "output_type": "stream",
     "text": [
      "Oi\n",
      "0     False\n",
      "1      True\n",
      "2      True\n",
      "3     False\n",
      "4     False\n",
      "      ...  \n",
      "95    False\n",
      "96    False\n",
      "97    False\n",
      "98    False\n",
      "99    False\n",
      "Name: Qtd_total_acertos, Length: 100, dtype: bool\n",
      "31\n"
     ]
    }
   ],
   "source": [
    "# 4) Seu código aqui\n",
    "print('Oi')\n",
    "df_aprovados = df_total_acertos['Qtd_total_acertos'] > 45\n",
    "print(df_aprovados)\n",
    "print(sum(df_aprovados))"
   ]
  },
  {
   "cell_type": "markdown",
   "metadata": {},
   "source": [
    "Temos, portanto, 31 alunos aprovados."
   ]
  },
  {
   "cell_type": "markdown",
   "metadata": {
    "id": "Hlfl75XXC8-4"
   },
   "source": [
    "## 2) Vestibular II\n",
    "\n",
    "Ainda sobre o mesmo banco de dados:\n",
    "\n",
    "1. Neste vestibular, quem 'zera' em matemática, física ou química está desqualificado. Monte um novo *DataFrame* com os alunos desqualificados por este critério.\n",
    "2. Quantos são esses alunos?\n",
    "3. Qual a média desses alunos em história e geografia?\n",
    "4. Monte um *DataFrame* com os alunos que passaram para a segunda fase. Repare que estes alunos não podem ter sido desqualificados."
   ]
  },
  {
   "cell_type": "markdown",
   "metadata": {},
   "source": [
    "O modo como tinhamos estruturado o nosso dataframe até aqui, não é conveniente para fazermos esta análise\n",
    "dos dados. Vamos, então, adicionar ao df_total_acertos as colunas que precisaremos para fazer esta análise."
   ]
  },
  {
   "cell_type": "code",
   "execution_count": 10,
   "metadata": {
    "id": "hPaMGXvJC8-4"
   },
   "outputs": [
    {
     "name": "stdout",
     "output_type": "stream",
     "text": [
      "    Qtd_total_acertos  Percentual de acertos  matematica  portugues  \\\n",
      "0                  35               0.388889           6          7   \n",
      "1                  48               0.533333          19         10   \n",
      "2                  50               0.555556          14         16   \n",
      "3                  32               0.355556          10          7   \n",
      "4                  30               0.333333           7          2   \n",
      "..                ...                    ...         ...        ...   \n",
      "95                 34               0.377778           6          4   \n",
      "96                 27               0.300000           8          1   \n",
      "97                 40               0.444444          23          5   \n",
      "98                 40               0.444444           0         10   \n",
      "99                 42               0.466667          11         15   \n",
      "\n",
      "    geografia  fisica  historia  ingles  quimica  Aprovados  \n",
      "0           7       8         1       3        3      False  \n",
      "1           0      11         0       0        8       True  \n",
      "2           0       4         7       5        4       True  \n",
      "3           3       0         0       4        8      False  \n",
      "4           2       9         0       7        3      False  \n",
      "..        ...     ...       ...     ...      ...        ...  \n",
      "95          7       9         4       1        3      False  \n",
      "96          4       4         1       6        3      False  \n",
      "97          0       1         4       2        5      False  \n",
      "98          3      10         5       1       11      False  \n",
      "99          0       7         6       1        2      False  \n",
      "\n",
      "[100 rows x 10 columns]\n",
      "26\n"
     ]
    }
   ],
   "source": [
    "# seu código aqui\n",
    "df_total_acertos['matematica'] = df_mat['Qt_acertos']\n",
    "df_total_acertos['portugues'] = df_por['Qt_acertos']\n",
    "df_total_acertos['geografia'] = df_geo['Qt_acertos']\n",
    "df_total_acertos['fisica'] = df_fis['Qt_acertos']\n",
    "df_total_acertos['historia'] = df_his['Qt_acertos']\n",
    "df_total_acertos['ingles'] = df_ing['Qt_acertos']\n",
    "df_total_acertos['quimica'] = df_qui['Qt_acertos']\n",
    "\n",
    "serie_nota_corte = df_total_acertos['Qtd_total_acertos'] > 45\n",
    "df_aprovados_filtrado = df_total_acertos['matematica'] > 0\n",
    "serie_naozeromat = df_total_acertos['matematica'] > 0\n",
    "serie_naozerofis = df_total_acertos['fisica'] > 0\n",
    "serie_naozeroquim = df_total_acertos['quimica'] > 0\n",
    "serie_aprovados = serie_nota_corte & serie_naozeromat & serie_naozerofis & serie_naozeroquim\n",
    "df_total_acertos['Aprovados'] = serie_aprovados\n",
    "print(df_total_acertos)\n",
    "\n",
    "print(f'{sum(serie_aprovados)}')"
   ]
  },
  {
   "cell_type": "markdown",
   "metadata": {
    "id": "EGBUWpAHC8-5"
   },
   "source": [
    "## 3) Vacinações no Acre\n",
    "Vamos trabalhar agora com a base de vacinações no Acre. Para facilitar a sua vida, copiamos o link do arquivo na célula abaixo.\n",
    "\n",
    "1. Quantas vacinas estão registradas nessa base?  \n",
    "2. Quantos pacientes foram vacinados? (considere um paciente para cada valor único de ```paciente_id```)  \n",
    "3. Quantos pacientes únicos tomaram a primeira dose? OBS: Há um caractere especial neste campo. Receba os valores do campo com o método ```.unique()```.   \n",
    "4. Quantos pacientes com menos de 18 anos foram vacinados?  \n",
    "5. Quantos estabelecimentos aplicaram vacina no Acre?\n",
    "\n",
    "\n",
    "**OBS:** O portal do DATASUS pode apresentar instabilidades, retornando um erro na segunda célula abaixo. Por este motivo está disponível uma base estática, que se for baixada para o seu *working directory* pode ser lida com este comando: ```df = pd.read_csv('registros de vacinacao covid ACRE.csv', sep=';')```.\n",
    "\n",
    "**OBS2:** Para saber qual é o seu working directory, rode no jupyter: ```!pwd```."
   ]
  },
  {
   "cell_type": "code",
   "execution_count": 62,
   "metadata": {
    "id": "ET4r139hC8-5"
   },
   "outputs": [],
   "source": [
    "arquivo = 'https://s3.sa-east-1.amazonaws.com/ckan.saude.gov.br/SIPNI/COVID/uf/uf%3DAC/part-00000-1b9dbddf-8a6b-4eb6-a937-08768604c539.c000.csv'"
   ]
  },
  {
   "cell_type": "markdown",
   "metadata": {},
   "source": [
    "A quantidade de vacinas aplicadas, será igual à quantidade de linhas do dataframe. Podemos acessá-las usando o comando df.shape, vejamos:"
   ]
  },
  {
   "cell_type": "code",
   "execution_count": 48,
   "metadata": {
    "id": "SC9YMWLSC8-6"
   },
   "outputs": [
    {
     "name": "stdout",
     "output_type": "stream",
     "text": [
      "                                      document_id  \\\n",
      "0       5e8dbc83-c860-4174-820a-a1243cda8349-i0b0   \n",
      "1       81c2490a-c628-42e1-b747-55867710a1c6-i0b0   \n",
      "2       27542b2a-4337-4c42-85e9-3bd4048f0da8-i0b0   \n",
      "3       81e2e054-cdf5-4b47-9b4a-16c88d7e9e44-i0b0   \n",
      "4       aebef95f-9da2-4921-b759-f0e1a2ff1f8a-i0b0   \n",
      "...                                           ...   \n",
      "387484  96535b64-28c0-4882-be8c-5aceff730623-i0b0   \n",
      "387485  96616b50-469d-45b2-8f36-657ae5f5a29f-i0b0   \n",
      "387486  967432fe-b40f-4199-a83c-393a0083394d-i0b0   \n",
      "387487  96b36926-c802-4abf-8d55-2d3a62b4e0f1-i0b0   \n",
      "387488  96c1cc20-d7d2-435d-8a99-ac88e1a8d17c-i0b0   \n",
      "\n",
      "                                              paciente_id  paciente_idade  \\\n",
      "0       b7b14d77b710b87a86769eb3ec9eb342ffbf6aba769b50...              42   \n",
      "1       b73b85a41cc8802bd5afc1af36c6df784dcbc67ede89d4...              38   \n",
      "2       99441ce535cfa1b96c4d1683217f69b487602aaafc45d8...              30   \n",
      "3       d0dde99eab679851261f4b2fd459412ba4150ac28c3f1e...              57   \n",
      "4       5205bddd29ae6e9c7ffac931b63254529c08edc2758a37...              32   \n",
      "...                                                   ...             ...   \n",
      "387484  21a4caf244de9b3fac0e30ef7957e03c036c7daec2046f...              19   \n",
      "387485  3cddd8b1d24ebdef8e1268f58a66979f3a5c5a19be053a...              20   \n",
      "387486  1772335d9643a3c1a857f200c3cc2baf9643add51d0cbd...               9   \n",
      "387487  5eefd177521eddff017322e7dbd9d5a45a2bbbd85a4ada...              34   \n",
      "387488  4c57d125d551356532a248f7631ceafcd1c45b375a293b...              67   \n",
      "\n",
      "       paciente_dataNascimento paciente_enumSexoBiologico  \\\n",
      "0                   1978-10-19                          F   \n",
      "1                   1983-03-13                          F   \n",
      "2                   1991-09-07                          M   \n",
      "3                   1965-01-17                          F   \n",
      "4                   1989-02-14                          F   \n",
      "...                        ...                        ...   \n",
      "387484              2001-11-15                          F   \n",
      "387485              2001-10-30                          M   \n",
      "387486              2014-12-10                          F   \n",
      "387487              1988-12-10                          F   \n",
      "387488              1953-11-16                          F   \n",
      "\n",
      "        paciente_racaCor_codigo paciente_racaCor_valor  \\\n",
      "0                            99         SEM INFORMACAO   \n",
      "1                             4                AMARELA   \n",
      "2                             1                 BRANCA   \n",
      "3                             1                 BRANCA   \n",
      "4                             3                  PARDA   \n",
      "...                         ...                    ...   \n",
      "387484                        4                AMARELA   \n",
      "387485                        4                AMARELA   \n",
      "387486                        3                  PARDA   \n",
      "387487                        3                  PARDA   \n",
      "387488                        1                 BRANCA   \n",
      "\n",
      "        paciente_endereco_coIbgeMunicipio  paciente_endereco_coPais  \\\n",
      "0                                120040.0                      10.0   \n",
      "1                                120040.0                      10.0   \n",
      "2                                120040.0                      10.0   \n",
      "3                                120060.0                      10.0   \n",
      "4                                120040.0                      10.0   \n",
      "...                                   ...                       ...   \n",
      "387484                           120040.0                      10.0   \n",
      "387485                           120020.0                      10.0   \n",
      "387486                           120030.0                      10.0   \n",
      "387487                           120050.0                      10.0   \n",
      "387488                           120040.0                      10.0   \n",
      "\n",
      "       paciente_endereco_nmMunicipio  ... vacina_categoria_codigo  \\\n",
      "0                         RIO BRANCO  ...                     2.0   \n",
      "1                         RIO BRANCO  ...                    16.0   \n",
      "2                         RIO BRANCO  ...                     2.0   \n",
      "3                           TARAUACA  ...                     6.0   \n",
      "4                         RIO BRANCO  ...                     2.0   \n",
      "...                              ...  ...                     ...   \n",
      "387484                    RIO BRANCO  ...                     2.0   \n",
      "387485               CRUZEIRO DO SUL  ...                     6.0   \n",
      "387486                         FEIJO  ...                     2.0   \n",
      "387487                SENA MADUREIRA  ...                     2.0   \n",
      "387488                    RIO BRANCO  ...                     2.0   \n",
      "\n",
      "                   vacina_categoria_nome    vacina_lote  \\\n",
      "0                           Faixa Etária         210277   \n",
      "1              Trabalhadores Industriais        28230BD   \n",
      "2                           Faixa Etária         FH8023   \n",
      "3       Povos e Comunidades Tradicionais         FP7082   \n",
      "4                           Faixa Etária        211A21A   \n",
      "...                                  ...            ...   \n",
      "387484                      Faixa Etária         FA9096   \n",
      "387485  Povos e Comunidades Tradicionais     219VCD292Z   \n",
      "387486                      Faixa Etária         230168   \n",
      "387487                      Faixa Etária        213J21A   \n",
      "387488                      Faixa Etária  212VCD003ZVAA   \n",
      "\n",
      "       vacina_fabricante_nome  vacina_fabricante_referencia  \\\n",
      "0            SINOVAC/BUTANTAN   Organization/61189445000156   \n",
      "1                      PFIZER   Organization/00394544000851   \n",
      "2                      PFIZER            Organization/28290   \n",
      "3                      PFIZER            Organization/28290   \n",
      "4                     JANSSEN   Organization/00394544000851   \n",
      "...                       ...                           ...   \n",
      "387484                 PFIZER   Organization/00394544000851   \n",
      "387485    ASTRAZENECA/FIOCRUZ              Organization/149   \n",
      "387486               BUTANTAN                           152   \n",
      "387487                JANSSEN                         30587   \n",
      "387488    ASTRAZENECA/FIOCRUZ   Organization/33781055000135   \n",
      "\n",
      "       vacina_dataAplicacao vacina_descricao_dose  vacina_codigo  \\\n",
      "0                2021-08-04               1ª Dose             86   \n",
      "1                2021-09-08               2ª Dose             87   \n",
      "2                2021-12-18               2ª Dose             87   \n",
      "3                2022-05-25               Reforço             87   \n",
      "4                2021-07-06                  Dose             88   \n",
      "...                     ...                   ...            ...   \n",
      "387484           2021-07-27               1ª Dose             87   \n",
      "387485           2022-03-08               Reforço             85   \n",
      "387486           2024-01-16                 Única             33   \n",
      "387487           2022-12-19            2º Reforço             88   \n",
      "387488           2021-06-23               2ª Dose             85   \n",
      "\n",
      "                                      vacina_nome sistema_origem  \n",
      "0           COVID-19 SINOVAC/BUTANTAN - CORONAVAC       Novo PNI  \n",
      "1                     COVID-19 PFIZER - COMIRNATY       Novo PNI  \n",
      "2                     COVID-19 PFIZER - COMIRNATY       Novo PNI  \n",
      "3                     COVID-19 PFIZER - COMIRNATY       Novo PNI  \n",
      "4                  COVID-19 JANSSEN - Ad26.COV2.S       Novo PNI  \n",
      "...                                           ...            ...  \n",
      "387484                COVID-19 PFIZER - COMIRNATY       Novo PNI  \n",
      "387485  COVID-19 ASTRAZENECA/FIOCRUZ - COVISHIELD       Novo PNI  \n",
      "387486                                       INF3       Novo PNI  \n",
      "387487             COVID-19 JANSSEN - Ad26.COV2.S       Novo PNI  \n",
      "387488  COVID-19 ASTRAZENECA/FIOCRUZ - COVISHIELD       Novo PNI  \n",
      "\n",
      "[387489 rows x 32 columns]\n",
      "(387489, 32)\n"
     ]
    }
   ],
   "source": [
    "# 1) Sua solução aqui\n",
    "\n",
    "df_vacinas = pd.read_csv(arquivo, sep=';')\n",
    "print(df_vacinas)\n",
    "print(df_vacinas.shape)"
   ]
  },
  {
   "cell_type": "markdown",
   "metadata": {},
   "source": [
    "Logo, como podemos ver, foram administradas 387489 vacinas."
   ]
  },
  {
   "cell_type": "markdown",
   "metadata": {},
   "source": [
    "Para o exercício 2, consideraremos como paciente cada valor único do df_vacinas['paciente_id']. Para isso, usaremos o método nunique. Poderiamos também aplicar ao final o método shape após o método unique e ver quantas linhas tem o novo dataframe, o resultado seria praticamente o mesmo..."
   ]
  },
  {
   "cell_type": "code",
   "execution_count": 60,
   "metadata": {
    "id": "PMztY1RlC8-7"
   },
   "outputs": [
    {
     "name": "stdout",
     "output_type": "stream",
     "text": [
      "316723\n"
     ]
    }
   ],
   "source": [
    "# 2)\n",
    "print(df_vacinas['paciente_id'].nunique())"
   ]
  },
  {
   "cell_type": "code",
   "execution_count": 86,
   "metadata": {
    "id": "V_wr--3JC8-7"
   },
   "outputs": [
    {
     "name": "stdout",
     "output_type": "stream",
     "text": [
      "tomou primeira dose    143619\n",
      "dtype: int64\n"
     ]
    }
   ],
   "source": [
    "# 3)\n",
    "df_primeira_dose = pd.DataFrame()\n",
    "df_primeira_dose['tomou primeira dose'] = df_vacinas['vacina_descricao_dose']=='1ª Dose'\n",
    "print(df_primeira_dose.sum())\n"
   ]
  },
  {
   "cell_type": "markdown",
   "metadata": {},
   "source": [
    "Uma coisa a pontuar: pensei muito, mas não consegui entender qual o sentido de \"pacientes unicos que tomaram a primeira dose\" visto que, todo paciente que tomou a primeira dose, deveria necessáriamente ser único, afinal, se forem tomadas duas doses, uma será a primeira, e a outra a segunda, e assim por diante. Se havia algo que não considerei, solicito feedback na correção..."
   ]
  },
  {
   "cell_type": "code",
   "execution_count": 16,
   "metadata": {
    "id": "SPHgIxtcC8-7"
   },
   "outputs": [],
   "source": [
    "# 3) solução alternativa\n",
    "\n"
   ]
  },
  {
   "cell_type": "code",
   "execution_count": 88,
   "metadata": {
    "id": "S6ab9ExEC8-7"
   },
   "outputs": [
    {
     "name": "stdout",
     "output_type": "stream",
     "text": [
      "302027\n"
     ]
    }
   ],
   "source": [
    "# 4)\n",
    "df_maiores_de_idade = df_vacinas['paciente_idade'] > 18\n",
    "print(df_maiores_de_idade.sum())\n"
   ]
  },
  {
   "cell_type": "code",
   "execution_count": 130,
   "metadata": {
    "id": "PVrY_-qlC8-8"
   },
   "outputs": [
    {
     "name": "stdout",
     "output_type": "stream",
     "text": [
      "1547\n",
      "1529\n",
      "223\n"
     ]
    }
   ],
   "source": [
    "# 5)\n",
    "# Vou considerar que seja 'paciente_endereco_coIbgeMunicipio' a coluna que determina em qual local o paciente tomou a vacina, embora eu ache pouquíssimo\n",
    "# claro tal nomenclatura, visto que tem outra muito parecida, que possivelmente designa onde o paciente MORA. Mas, no entanto, farei uma análise abaixo\n",
    "# para justificar minha escolha entre as duas.\n",
    "print(df_vacinas['paciente_endereco_coIbgeMunicipio'].nunique())\n",
    "print(df_vacinas['paciente_endereco_nmMunicipio'].nunique())\n",
    "#    CORREÇÃO:\n",
    "print(df_vacinas['estabelecimento_valor'].nunique())\n",
    "#Este sim é o verdadeiro valor solicitado! Explicação abaixo.\n",
    "\n",
    "\n",
    "# Optamos por tomar a primeira como municipios onde a vacina foi ditribuida pois:1. apenas duas variáveis se referem a municípios, ou algo que possa se \n",
    "# referir a um ambiente de aplicação, 2. Logicamente, todo estabelecimento onde foi aplicada a vacina, ao menos uma pessoa natural de tal município se\n",
    "# se vacinou nele. O contrário não é válido, nem todo paciente que mora em algum município, se vacinou estando em seu município de origem. Estes dois\n",
    "# fatos, nos levam a optar pelo número MENOR para ser o que contabiliza o número de estabelecimentos.\n",
    "\n",
    "\n",
    "# comentario PS comunicando um ajuste: percebi, ao final da atividade 4, que os prints omitiram várias colunas, pois o data_frame era muito extenso,\n",
    "# então houve um . . . no meio das colunas listadas e eu não percebi, e na verdade, havia uma coluna para designar os estabelecimentos. Então, há um\n",
    "# terceiro print acima que corrrige meu erro!"
   ]
  },
  {
   "cell_type": "markdown",
   "metadata": {
    "id": "LH1LSYvGC8-8"
   },
   "source": [
    "## 4) Vacinação II\n",
    "Gere um *DataFrame* que contenha somente os estabelecimentos que aplicaram vcinas a menores de 18 anos. Nesse *DataFrame* devem conter somente os dados dos estabelecimentos, mais uma coluna sendo a quantidade de vacinas que o estabelecimento aplicou a menores de 18 anos.  \n",
    "  \n",
    "1. crie uma cópia do *DataFrame* original, contendo somente os registros de vacinas realizadas a menores de 18 anos.  \n",
    "2. crie uma lista das colunas desse *DataFrame* com o atributo de *DataFrame* **.columns()**  \n",
    "3. Nesse *DataFrame* faça uma contagem do campo ```vacina_categoria_nome```.\n",
    "3. a partir da lista de colunas, escolha somente aquelas que são referentes ao estabelecimento, faça uma lista com esses valores.  \n",
    "4. usando o método *.loc*, selecione somente essas variáveis  \n",
    "5. Aplique o método **.drop_duplicates** e crie uma lista com uma linha para cada estabelecimento, com os dados do estabelecimento  "
   ]
  },
  {
   "cell_type": "code",
   "execution_count": 107,
   "metadata": {
    "id": "3ojs12vUC8-8"
   },
   "outputs": [
    {
     "name": "stdout",
     "output_type": "stream",
     "text": [
      "Index(['document_id', 'paciente_id', 'paciente_idade',\n",
      "       'paciente_dataNascimento', 'paciente_enumSexoBiologico',\n",
      "       'paciente_racaCor_codigo', 'paciente_racaCor_valor',\n",
      "       'paciente_endereco_coIbgeMunicipio', 'paciente_endereco_coPais',\n",
      "       'paciente_endereco_nmMunicipio', 'paciente_endereco_nmPais',\n",
      "       'paciente_endereco_uf', 'paciente_endereco_cep',\n",
      "       'paciente_nacionalidade_enumNacionalidade', 'estabelecimento_valor',\n",
      "       'estabelecimento_razaoSocial', 'estalecimento_noFantasia',\n",
      "       'estabelecimento_municipio_codigo', 'estabelecimento_municipio_nome',\n",
      "       'estabelecimento_uf', 'vacina_grupoAtendimento_codigo',\n",
      "       'vacina_grupoAtendimento_nome', 'vacina_categoria_codigo',\n",
      "       'vacina_categoria_nome', 'vacina_lote', 'vacina_fabricante_nome',\n",
      "       'vacina_fabricante_referencia', 'vacina_dataAplicacao',\n",
      "       'vacina_descricao_dose', 'vacina_codigo', 'vacina_nome',\n",
      "       'sistema_origem'],\n",
      "      dtype='object')\n"
     ]
    }
   ],
   "source": [
    "# 1)\n",
    "lista = []\n",
    "condicao = df_vacinas['paciente_idade'] > 18\n",
    "df_copia = df_vacinas[condicao]\n"
   ]
  },
  {
   "cell_type": "code",
   "execution_count": 21,
   "metadata": {
    "id": "sLyevPRBC8-8"
   },
   "outputs": [],
   "source": [
    "# 2)\n",
    "lista_colunas = df_copia.columns\n"
   ]
  },
  {
   "cell_type": "code",
   "execution_count": 109,
   "metadata": {
    "id": "lZAW-Dp8C8-8"
   },
   "outputs": [
    {
     "data": {
      "text/plain": [
       "21"
      ]
     },
     "execution_count": 109,
     "metadata": {},
     "output_type": "execute_result"
    }
   ],
   "source": [
    "# 3)\n",
    "df_copia['vacina_categoria_nome'].nunique()"
   ]
  },
  {
   "cell_type": "code",
   "execution_count": 117,
   "metadata": {
    "id": "xxYsxrxAC8-8"
   },
   "outputs": [
    {
     "name": "stdout",
     "output_type": "stream",
     "text": [
      "['estabelecimento_valor', 'estabelecimento_razaoSocial', 'estalecimento_noFantasia', 'estabelecimento_municipio_codigo', 'estabelecimento_municipio_nome', 'estabelecimento_uf']\n"
     ]
    }
   ],
   "source": [
    "# 4)\n",
    "colunas_estabelecimento = list(lista[14:20])\n",
    "print(colunas_estabelecimento)\n"
   ]
  },
  {
   "cell_type": "code",
   "execution_count": 126,
   "metadata": {
    "id": "vaX2x_0rC8-8"
   },
   "outputs": [
    {
     "name": "stdout",
     "output_type": "stream",
     "text": [
      "        estabelecimento_valor                  estabelecimento_razaoSocial  \\\n",
      "0                     2001101           PREFEITURA MUNICIPAL DE PORTO ACRE   \n",
      "1                     6917291           PREFEITURA MUNICIPAL DE RIO BRANCO   \n",
      "3                     3810771             PREFEITURA MUNICIPAL DE TARAUACA   \n",
      "10                    2001772  PREFEITURA MUNICIPAL DE SANTA ROSA DO PURUS   \n",
      "13                    2000237      PREFEITURA MUNICIPAL DE CRUZEIRO DO SUL   \n",
      "...                       ...                                          ...   \n",
      "179728                2001837           PREFEITURA MUNICIPAL DE RIO BRANCO   \n",
      "183712                9846433        PREFEITURA MUNICIPAL DE MANOEL URBANO   \n",
      "301878                3393984            PRFEITURA MUNICIPAL DE ACRELANDIA   \n",
      "314140                 783722                SECRETARIA MUNICIPAL DE SAUDE   \n",
      "338347                2001322       PREFEITURA MUNICIPAL DE EPITACIOLANDIA   \n",
      "\n",
      "                                 estalecimento_noFantasia  \\\n",
      "0       UNIDADE DE SAUDE DA FAMILIA RAIMUNDA BITENCOUR...   \n",
      "1       DEPARTAMENTO DE VIGILANCIA EPIDEMIOLOGICA E AM...   \n",
      "3       UNIDADE DE S DA FAMILIA DR JOSE LEONCIO GOMES ...   \n",
      "10                  CENTRO DE SAUDE PAULO ALCIONE MARQUES   \n",
      "13                     UNIDADE DE SAUDE DA FAMILIA J LINS   \n",
      "...                                                   ...   \n",
      "179728                                   USF SANTA INES I   \n",
      "183712    UNIDADE BASICA DE SAUDE MILTON AUGUSTO DA SILVA   \n",
      "301878  UNIDADE DE SAUDE DA FAMILIA RICARDO MONTEIRO ROLA   \n",
      "314140                  UNIDADE BASICA JOSE SOUZA CORREIA   \n",
      "338347                   ESF JOSE FRANCISCO DO NASCIMENTO   \n",
      "\n",
      "        estabelecimento_municipio_codigo estabelecimento_municipio_nome  \\\n",
      "0                                 120080                     PORTO ACRE   \n",
      "1                                 120040                     RIO BRANCO   \n",
      "3                                 120060                       TARAUACA   \n",
      "10                                120043            SANTA ROSA DO PURUS   \n",
      "13                                120020                CRUZEIRO DO SUL   \n",
      "...                                  ...                            ...   \n",
      "179728                            120040                     RIO BRANCO   \n",
      "183712                            120034                  MANOEL URBANO   \n",
      "301878                            120001                     ACRELANDIA   \n",
      "314140                            120042                RODRIGUES ALVES   \n",
      "338347                            120025                 EPITACIOLANDIA   \n",
      "\n",
      "       estabelecimento_uf  \n",
      "0                      AC  \n",
      "1                      AC  \n",
      "3                      AC  \n",
      "10                     AC  \n",
      "13                     AC  \n",
      "...                   ...  \n",
      "179728                 AC  \n",
      "183712                 AC  \n",
      "301878                 AC  \n",
      "314140                 AC  \n",
      "338347                 AC  \n",
      "\n",
      "[229 rows x 6 columns]\n"
     ]
    }
   ],
   "source": [
    "# 5)\n",
    "df_copia_estabelecimentos = df_copia.loc[:,colunas_estabelecimento].drop_duplicates()\n",
    "print(df_copia_estabelecimentos)\n"
   ]
  },
  {
   "cell_type": "code",
   "execution_count": null,
   "metadata": {},
   "outputs": [],
   "source": []
  },
  {
   "cell_type": "code",
   "execution_count": null,
   "metadata": {},
   "outputs": [],
   "source": []
  }
 ],
 "metadata": {
  "colab": {
   "provenance": []
  },
  "kernelspec": {
   "display_name": "Python 3 (ipykernel)",
   "language": "python",
   "name": "python3"
  },
  "language_info": {
   "codemirror_mode": {
    "name": "ipython",
    "version": 3
   },
   "file_extension": ".py",
   "mimetype": "text/x-python",
   "name": "python",
   "nbconvert_exporter": "python",
   "pygments_lexer": "ipython3",
   "version": "3.12.4"
  },
  "toc": {
   "base_numbering": 1,
   "nav_menu": {},
   "number_sections": false,
   "sideBar": true,
   "skip_h1_title": true,
   "title_cell": "Índice",
   "title_sidebar": "Conteúdo",
   "toc_cell": false,
   "toc_position": {},
   "toc_section_display": true,
   "toc_window_display": false
  },
  "varInspector": {
   "cols": {
    "lenName": 16,
    "lenType": 16,
    "lenVar": 40
   },
   "kernels_config": {
    "python": {
     "delete_cmd_postfix": "",
     "delete_cmd_prefix": "del ",
     "library": "var_list.py",
     "varRefreshCmd": "print(var_dic_list())"
    },
    "r": {
     "delete_cmd_postfix": ") ",
     "delete_cmd_prefix": "rm(",
     "library": "var_list.r",
     "varRefreshCmd": "cat(var_dic_list()) "
    }
   },
   "types_to_exclude": [
    "module",
    "function",
    "builtin_function_or_method",
    "instance",
    "_Feature"
   ],
   "window_display": false
  }
 },
 "nbformat": 4,
 "nbformat_minor": 4
}
