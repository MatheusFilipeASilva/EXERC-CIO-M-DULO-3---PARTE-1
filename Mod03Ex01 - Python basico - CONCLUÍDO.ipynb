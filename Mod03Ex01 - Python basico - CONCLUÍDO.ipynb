{
 "cells": [
  {
   "cell_type": "markdown",
   "metadata": {},
   "source": [
    "### 01 - Teste de gravidez\n",
    "Escreva uma célula com controle de fluxos que tem como premissa a existência das seguintes variáveis:\n",
    "\n",
    "- ```sexo``` como ```str``` indicando os valores '**M**' para masculino e '**F**' para feminino  \n",
    "- ```beta_hcg``` que indica a quantidade do beta-HCG no sangue em mUI/mL.\n",
    "\n",
    "A sua tarefa é escrever um código que imprima como resultado \"indivíduo do sexo masculino\" quando sexo = 'M', caso sexo = 'F', se o valor de beta-HCG for maior que 5, retorne \"Positivo\" indicando que a paciente está grávida, e retorne \"Negativo\" caso contrário.\n",
    "\n",
    "Não mexa nos valores da variável ```sexo``` nem em ```beta_hcg```, e escreva um código que funcione para quaisquer valores possíveis de ambos: ```sexo``` = '**M**' ou '**F**' e ```beta_hcg``` assumindo valores inteiros positivos."
   ]
  },
  {
   "cell_type": "code",
   "execution_count": 64,
   "metadata": {},
   "outputs": [
    {
     "name": "stdout",
     "output_type": "stream",
     "text": [
      "O teste deu negativo. pois o valor do Beta HCG foi de 0, que foi menor ou igual a 5.\n"
     ]
    }
   ],
   "source": [
    "sexo = 'F'\n",
    "beta_hcg = 0\n",
    "\n",
    "if sexo in 'Mm':\n",
    "    print('O indivíduo é do sexo masculino!')\n",
    "if sexo in 'Ff' and beta_hcg > 5:\n",
    "    print('O resultado é positivo!')\n",
    "elif sexo in 'Ff' and beta_hcg <= 5:\n",
    "    print(f'O teste deu negativo. pois o valor do Beta HCG foi de {beta_hcg}, que foi menor ou igual a 5.')\n"
   ]
  },
  {
   "cell_type": "markdown",
   "metadata": {},
   "source": [
    "O código avalia as possibilidades e retorna corretamente se o resultado é positivo, negativo, ou, ainda, se o teste não é aplicável ao indivíduo (indivíduo do sexo masculino). Nosso algorítimo possui também uma maneira de lidar com um dos possíveis erros da parte do usuário, que é checkar se a variável sexo por ventura não foi escrita em letras minúsculas."
   ]
  },
  {
   "cell_type": "markdown",
   "metadata": {},
   "source": [
    "### 02 - Renomeando variáveis\n",
    "\n",
    "Vamos ver adiante que uma forma de renomear variáveis de um conjunto de dados é através de dicionários - o dicionário deve conter como chave o nome original, associando a cada chave um único valor (tipo *str*) que contenha o nome novo.\n",
    "\n",
    "A sua tarefa é escrever um dicionário que possa ser utilizado para traduzir as variáveis ```name``` (nome), ```age``` (idade) e ```income``` (renda). Ou seja, esse dicionário deve relacionar as chaves *name, age* e *income* às suas respectivas traduções."
   ]
  },
  {
   "cell_type": "code",
   "execution_count": null,
   "metadata": {},
   "outputs": [],
   "source": []
  },
  {
   "cell_type": "code",
   "execution_count": 78,
   "metadata": {},
   "outputs": [
    {
     "name": "stdout",
     "output_type": "stream",
     "text": [
      "{'name': 'nome', 'income': 'renda', 'age': 'idade'}\n"
     ]
    }
   ],
   "source": [
    "dic_renomeacao = {'name': 'nome', 'income': 'renda', 'age': 'idade'}\n",
    "\n",
    "print(dic_renomeacao)\n"
   ]
  },
  {
   "cell_type": "markdown",
   "metadata": {},
   "source": [
    "### 03 - É divisível?\n",
    "A sua tarefa é escrever um código que indique se um número ```N``` é divisível por um número P. Escreva um programa que faça essa verificação para quaisquer combinações de ```N``` e ```P``` e devolva uma mensagem indicativa no output."
   ]
  },
  {
   "cell_type": "code",
   "execution_count": 83,
   "metadata": {},
   "outputs": [
    {
     "name": "stdout",
     "output_type": "stream",
     "text": [
      "44 não é divisível por 7, pois a divisão de 44 por 7 deixa resto 2\n"
     ]
    }
   ],
   "source": [
    "N = 44\n",
    "P = 7\n",
    "\n",
    "#Seu código\n",
    "if N%P==0:\n",
    "    print(f'{N} é divisível por P!')\n",
    "else:\n",
    "    print(f'{N} não é divisível por {P}, pois a divisão de {N} por {P} deixa resto {N%P}')\n"
   ]
  },
  {
   "cell_type": "markdown",
   "metadata": {},
   "source": [
    "### 04 - Números primos\n",
    "> Um número **N** é primo se e somente se é divisível por 1, -1, por **N** e por -**N**.  \n",
    "\n",
    "Escreva um script que verifica se ```N``` é um número primo, verificando se ```N``` é divisível por todos os números de ```1``` a ```N-1```. Você vai precisar usar alguma ferramenta de *loop* que você aprendeu para isto. No final, devolva uma mensagem no output indicando se o número é primo ou não."
   ]
  },
  {
   "cell_type": "markdown",
   "metadata": {},
   "source": [
    "Antes de iniciar o exercício, deixo aqui um comentário de um teorema matemático que será utilizado no código para otimizar a velocidade de execução, o que é de particular interesse quando tomarmos N demasiadamente grande. Tal teorema é:\n",
    "\"Se um número não for divisível por nenhum número até sua própria raíz quadrada, então, consequentemente, este número é primo\"."
   ]
  },
  {
   "cell_type": "code",
   "execution_count": 107,
   "metadata": {},
   "outputs": [
    {
     "name": "stdout",
     "output_type": "stream",
     "text": [
      "O número é composto\n"
     ]
    }
   ],
   "source": [
    "N = 1564900489456\n",
    "limite_superior = round(N**(1/2)+1)\n",
    "numero_divisores = 0\n",
    "for c in range (1, limite_superior):\n",
    "    if N%c==0:\n",
    "        numero_divisores += 1\n",
    "if numero_divisores > 1:\n",
    "    print('O número é composto')\n",
    "else:\n",
    "    print('O número é primo!')\n",
    "\n",
    "\n",
    "# seu código abaixo\n"
   ]
  },
  {
   "cell_type": "markdown",
   "metadata": {},
   "source": [
    "### 05 - Desafio\n",
    "O algorítmo do exercício anterior não é o mais eficiente. O que você pode fazer para deixá-lo mais eficiente? Ou seja, executar menos comparações, portanto consumir menos tempo.\n",
    "1. Será que precisamos correr o loop até o final sempre?\n",
    "2. Será que precisamos mesmo verificar **todos** os números?\n",
    "3. Será que precisamos ir até N-1?\n",
    "\n",
    "Essas perguntas levam ao tipo de pensamento voltado a deixar um algoritmo mais eficiente. Veja se você consegue melhorar o seu."
   ]
  },
  {
   "cell_type": "code",
   "execution_count": 157,
   "metadata": {},
   "outputs": [
    {
     "name": "stdout",
     "output_type": "stream",
     "text": [
      "O número é composto\n"
     ]
    }
   ],
   "source": [
    "\n",
    "# seu código aqui\n",
    "N = 104050665654891547\n",
    "limite_superior = round(N**(1/2)+1)\n",
    "numero_divisores = 0\n",
    "for c in range (1, limite_superior):\n",
    "    if N%c==0:\n",
    "        numero_divisores += 1\n",
    "if numero_divisores > 1:\n",
    "    print('O número é composto')\n",
    "else:\n",
    "    print('O número é primo!')"
   ]
  },
  {
   "cell_type": "markdown",
   "metadata": {},
   "source": [
    "Como o meu código já era uma versão otimizada, deixei aqui o mesmo código novamente! É o mais efetivo que conheço!\n",
    "Mas deixo o comentário aqui de que um modo mais \"amador\" de melhorar o código seria ir até a metade do próprio número, já que nenhum número pode ser divisível por um número que seja maior que sua metade. exceto ele mesmo.\n",
    "Alguns outros meios de otimizar o algoritimo seria por exemplo, já \"condenar\" números que terminam em 0, 2, 4, 6 e 8 como sendo compostos! "
   ]
  },
  {
   "cell_type": "markdown",
   "metadata": {},
   "source": [
    "### 06 - Peso ideal 1\n",
    "O IMC (índice de massa corpórea) é um indicador de saúde mais bem aceito que o peso. Ele é calculado como:\n",
    "\n",
    "$$ IMC = \\dfrac{peso}{altura^2}$$\n",
    "\n",
    "Segundo a OMS, valores *normais* são entre 18.5 e 24.9.\n",
    "\n",
    "Sua tarefa é encontrar o ponto médio dessa faixa."
   ]
  },
  {
   "cell_type": "code",
   "execution_count": 116,
   "metadata": {},
   "outputs": [
    {
     "name": "stdout",
     "output_type": "stream",
     "text": [
      "o IMC que se encontra no centro da faixa ideal, e portanto, o mais longe possível das\n",
      "zonas de risco, é o: 21.7\n"
     ]
    }
   ],
   "source": [
    "imc_ideal = (18.5+24.9)/2\n",
    "print(f'''o IMC que se encontra no centro da faixa ideal, e portanto, o mais longe possível das\n",
    "zonas de risco, é o: {imc_ideal}''')"
   ]
  },
  {
   "cell_type": "markdown",
   "metadata": {},
   "source": [
    "### 07 - Peso ideal 2\n",
    "Recebendo um valor de altura, encontre o peso '*ideal*' dessa pessoa, que fornece o IMC encontrado acima"
   ]
  },
  {
   "cell_type": "markdown",
   "metadata": {},
   "source": [
    "O peso ideal de uma pessoa, conforme definimos anteriormente, seria aquele peso que a faria obter 21.7 de IMC, portanto, isolando o peso na equação, teremos:"
   ]
  },
  {
   "cell_type": "code",
   "execution_count": 120,
   "metadata": {},
   "outputs": [
    {
     "name": "stdout",
     "output_type": "stream",
     "text": [
      "O peso ideal de uma pessoa com 1.7m é de 62.71kg\n"
     ]
    }
   ],
   "source": [
    "altura = 1.70\n",
    "\n",
    "#Meu Código\n",
    "peso_ideal = altura**2*21.7\n",
    "print(f'O peso ideal de uma pessoa com {altura}m é de {peso_ideal:.2f}kg')"
   ]
  },
  {
   "cell_type": "markdown",
   "metadata": {},
   "source": [
    "### 08 - Peso ideal 3\n",
    "Dada uma lista contendo as alturas de pacientes, crie uma nova lista que contenha o peso '*ideal*' (que fornece o IMC calculado em **Peso ideal 1**) desses pacientes."
   ]
  },
  {
   "cell_type": "code",
   "execution_count": 166,
   "metadata": {},
   "outputs": [
    {
     "name": "stdout",
     "output_type": "stream",
     "text": [
      "[82.51, 91.19, 62.71, 59.08]\n"
     ]
    }
   ],
   "source": [
    "lista_alturas = [1.95, 2.05, 1.70, 1.65]\n",
    "\n",
    "lista_peso_ideal = []\n",
    "\n",
    "# seu código\n",
    "for altura in lista_alturas:\n",
    "    lista_peso_ideal.append(altura**2*21.7)\n",
    "lista_peso_ideal = list(map(lambda x: round(x,2), lista_peso_ideal))\n",
    "print(lista_peso_ideal)\n"
   ]
  },
  {
   "cell_type": "markdown",
   "metadata": {},
   "source": [
    "### 09 - Peso ideal 4\n",
    "Dada uma lista de tuplas - cada elemento da lista é uma tupla contendo altura e peso de um paciente - crie uma nova lista com o IMC desses pacientes."
   ]
  },
  {
   "cell_type": "code",
   "execution_count": 172,
   "metadata": {},
   "outputs": [
    {
     "name": "stdout",
     "output_type": "stream",
     "text": [
      "[27.78, 27.55, 19.19]\n"
     ]
    }
   ],
   "source": [
    "altura_peso = [(1.80, 90), (1.65, 75), (1.91, 70)]\n",
    "\n",
    "imc = []\n",
    "\n",
    "# seu código\n",
    "\n",
    "for pares in altura_peso:\n",
    "    imc.append(pares[1]/(pares[0]**2))\n",
    "imc = list(map(lambda x: round(x, 2), imc))\n",
    "print(imc)"
   ]
  },
  {
   "cell_type": "markdown",
   "metadata": {},
   "source": [
    "### 10 - Peso ideal 5\n",
    "Dada uma lista de **listas** - cada elemento da lista é uma **lista** contendo altura e peso de um paciente, adicione mais um elemento à lista de cada paciente contendo o IMC do paciente. Verifique também se é 'baixo', 'normal' ou 'alto' segundo os padrões da OMS em que normal é entre 18.5 e 24.9.\n",
    "\n",
    "Reflexão: por que no problema anterior temos que criar uma nova lista, e não podemos adicionar os dados de cada indivíduo à tupla?"
   ]
  },
  {
   "cell_type": "code",
   "execution_count": 182,
   "metadata": {},
   "outputs": [
    {
     "name": "stdout",
     "output_type": "stream",
     "text": [
      "Você está acima do peso!\n",
      "Você está acima do peso!\n",
      "Você está com o peso ideal!\n",
      "[[1.8, 90, 27.78], [1.65, 75, 27.55], [1.91, 70, 19.19]]\n"
     ]
    }
   ],
   "source": [
    "altura_peso = [[1.80, 90], [1.65, 75], [1.91, 70]]\n",
    "c = 0\n",
    "imc = []\n",
    "for pares in altura_peso:\n",
    "    imc.append(round(pares[1]/(pares[0]**2), 2))\n",
    "for pares in altura_peso:\n",
    "    pares.append(imc[c])\n",
    "    c += 1\n",
    "for pessoas in altura_peso:\n",
    "    if pessoas [2] < 18.5:\n",
    "        print('Você está abaixo do peso!')\n",
    "    elif pessoas [2] > 24.9:\n",
    "        print('Você está acima do peso!')\n",
    "    else:\n",
    "        print('Você está com o peso ideal!')\n",
    "print(altura_peso)"
   ]
  },
  {
   "cell_type": "code",
   "execution_count": null,
   "metadata": {},
   "outputs": [],
   "source": []
  }
 ],
 "metadata": {
  "kernelspec": {
   "display_name": "Python 3 (ipykernel)",
   "language": "python",
   "name": "python3"
  },
  "language_info": {
   "codemirror_mode": {
    "name": "ipython",
    "version": 3
   },
   "file_extension": ".py",
   "mimetype": "text/x-python",
   "name": "python",
   "nbconvert_exporter": "python",
   "pygments_lexer": "ipython3",
   "version": "3.12.4"
  }
 },
 "nbformat": 4,
 "nbformat_minor": 4
}
